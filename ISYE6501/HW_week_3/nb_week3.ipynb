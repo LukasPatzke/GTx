{
 "cells": [
  {
   "cell_type": "markdown",
   "metadata": {},
   "source": [
    "# Homework Week 3"
   ]
  },
  {
   "cell_type": "markdown",
   "metadata": {},
   "source": [
    "## Question 5.1\n",
    "Using crime data from the file uscrime.txt (http://www.statsci.org/data/general/uscrime.txt, description at http://www.statsci.org/data/general/uscrime.html), test to see whether there are any outliers in the last column (number of crimes per 100,000 people). Use the grubbs.test function in the outliers package in R."
   ]
  },
  {
   "cell_type": "code",
   "execution_count": 4,
   "metadata": {},
   "outputs": [],
   "source": [
    "library(outliers)"
   ]
  },
  {
   "cell_type": "code",
   "execution_count": null,
   "metadata": {},
   "outputs": [],
   "source": [
    "data <- read.table(\"uscrime.txt\", sep=\"\\t\", header=TRUE)"
   ]
  },
  {
   "cell_type": "markdown",
   "metadata": {},
   "source": [
    "Testing for an outlier:"
   ]
  },
  {
   "cell_type": "code",
   "execution_count": 16,
   "metadata": {},
   "outputs": [
    {
     "data": {
      "text/plain": [
       "\n",
       "\tGrubbs test for one outlier\n",
       "\n",
       "data:  data$Crime\n",
       "G = 2.81290, U = 0.82426, p-value = 0.07887\n",
       "alternative hypothesis: highest value 1993 is an outlier\n"
      ]
     },
     "metadata": {},
     "output_type": "display_data"
    }
   ],
   "source": [
    "grubbs.test(data$Crime, type=10, opposite=FALSE)"
   ]
  },
  {
   "cell_type": "markdown",
   "metadata": {},
   "source": [
    "The value of 1993 has only a probalility of 7.9% of being by chance.\n",
    "Let's remove the value and test again:"
   ]
  },
  {
   "cell_type": "code",
   "execution_count": 37,
   "metadata": {},
   "outputs": [
    {
     "data": {
      "text/plain": [
       "\n",
       "\tGrubbs test for one outlier\n",
       "\n",
       "data:  data$Crime\n",
       "G = 3.06340, U = 0.78682, p-value = 0.02848\n",
       "alternative hypothesis: highest value 1969 is an outlier\n"
      ]
     },
     "metadata": {},
     "output_type": "display_data"
    }
   ],
   "source": [
    "data <- data[-match(c(1993), data$Crime),]\n",
    "grubbs.test(data$Crime, type=10, opposite=FALSE)"
   ]
  },
  {
   "cell_type": "markdown",
   "metadata": {},
   "source": [
    "The value of 1969 has only a probalility of 2.8% of being by chance.\n",
    "Let's remove the value and test again:"
   ]
  },
  {
   "cell_type": "code",
   "execution_count": 38,
   "metadata": {},
   "outputs": [
    {
     "data": {
      "text/plain": [
       "\n",
       "\tGrubbs test for one outlier\n",
       "\n",
       "data:  data$Crime\n",
       "G = 2.56460, U = 0.84712, p-value = 0.1781\n",
       "alternative hypothesis: highest value 1674 is an outlier\n"
      ]
     },
     "metadata": {},
     "output_type": "display_data"
    }
   ],
   "source": [
    "data <- data[-match(c(1969), data$Crime),]\n",
    "grubbs.test(data$Crime, type=10, opposite=FALSE)"
   ]
  },
  {
   "cell_type": "markdown",
   "metadata": {},
   "source": [
    "The value of 1674 has  a probalility of 17.8% of being by chance. That's not an outlier!"
   ]
  },
  {
   "cell_type": "markdown",
   "metadata": {},
   "source": [
    "## Question 6.1\n",
    "Describe a situation or problem from your job, everyday life, current events, etc., for which a Change\n",
    "Detection model would be appropriate. Applying the CUSUM technique, how would you choose the\n",
    "critical value and the threshold?\n",
    "\n"
   ]
  },
  {
   "cell_type": "markdown",
   "metadata": {},
   "source": [
    "Since I am working in the aerospace industry, I often get confronted with the issue of process control. One example is the milling of highly complex parts from titanium. To detect ware out of the cutter, we could monitor the forces and power consumption of the machine to detect changes. To chose the critical values and the threshold we could use past data of failing cutters."
   ]
  },
  {
   "cell_type": "markdown",
   "metadata": {},
   "source": [
    "## Question 6.2\n",
    "\n",
    "1. Using July through October daily-high-temperature data for Atlanta for 1996 through 2015, use a CUSUM approach to identify when unofficial summer ends (i.e., when the weather starts cooling off) each year. You can get the data that you need from the file temps.txt or online, for example at http://www.iweathernet.com/atlanta-weather-records or https://www.wunderground.com/history/airport/KFTY/2015/7/1/CustomHistory.html . You can use R if you’d like, but it’s straightforward enough that an Excel spreadsheet can easily do the job too."
   ]
  },
  {
   "cell_type": "markdown",
   "metadata": {},
   "source": [
    "The Calculations for Question 6.2 are in the attached Excel File.\n",
    "\n",
    "The cumsum approach with values of 5 * standard deviation for T and 1/2 * standard deviation for C returns the end of summer as:\n",
    "\n",
    "| Year | End of Summer |\n",
    "| ---- | ------------- |\n",
    "| 1996 | 30. Sep\n",
    "| 1997 | 16. Oct\n",
    "| 1998 | 07. Oct\n",
    "| 1999 | 06. Oct\n",
    "| 2000 | 06. Oct\n",
    "| 2001 | 30. Sep\n",
    "| 2002 | 14. Oct\n",
    "| 2003 | 30. Sep\n",
    "| 2004 | 11. Oct\n",
    "| 2005 | 12. Oct\n",
    "| 2006 | 14. Oct\n",
    "| 2007 | 18. Oct\n",
    "| 2008 | 19. Oct\n",
    "| 2009 | 14. Oct\n",
    "| 2010 | 01. Oct\n",
    "| 2011 | 09. Oct\n",
    "| 2012 | 07. Oct\n",
    "| 2013 | 18. Oct\n",
    "| 2014 | 28. Sep\n",
    "| 2015 | 30. Sep"
   ]
  },
  {
   "cell_type": "markdown",
   "metadata": {},
   "source": [
    "2. Use a CUSUM approach to make a judgment of whether Atlanta’s summer climate has gotten warmer in that time (and if so, when)."
   ]
  },
  {
   "cell_type": "markdown",
   "metadata": {},
   "source": [
    "If we apply the CUMSUM approach to the mean temperature of each summer, the result suggests that there is an increase in temperature in the year 2010.\n",
    "But since then the temperature drops again to the level of the previous years, we can not conclude that the summer climate got warmer in general."
   ]
  }
 ],
 "metadata": {
  "kernelspec": {
   "display_name": "R",
   "language": "R",
   "name": "ir"
  },
  "language_info": {
   "codemirror_mode": "r",
   "file_extension": ".r",
   "mimetype": "text/x-r-source",
   "name": "R",
   "pygments_lexer": "r",
   "version": "3.5.1"
  }
 },
 "nbformat": 4,
 "nbformat_minor": 2
}
